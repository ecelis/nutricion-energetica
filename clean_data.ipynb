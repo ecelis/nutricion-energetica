{
 "cells": [
  {
   "cell_type": "code",
   "execution_count": 1,
   "metadata": {},
   "outputs": [],
   "source": [
    "import numpy as np\n",
    "import pandas as pd"
   ]
  },
  {
   "cell_type": "code",
   "execution_count": 3,
   "metadata": {},
   "outputs": [
    {
     "data": {
      "text/html": [
       "<div>\n",
       "<style scoped>\n",
       "    .dataframe tbody tr th:only-of-type {\n",
       "        vertical-align: middle;\n",
       "    }\n",
       "\n",
       "    .dataframe tbody tr th {\n",
       "        vertical-align: top;\n",
       "    }\n",
       "\n",
       "    .dataframe thead th {\n",
       "        text-align: right;\n",
       "    }\n",
       "</style>\n",
       "<table border=\"1\" class=\"dataframe\">\n",
       "  <thead>\n",
       "    <tr style=\"text-align: right;\">\n",
       "      <th></th>\n",
       "      <th>category_en</th>\n",
       "      <th>categoria_es</th>\n",
       "      <th>description_en</th>\n",
       "      <th>descripcion_es</th>\n",
       "      <th>ndbn</th>\n",
       "      <th>alpha_carotene</th>\n",
       "      <th>ash</th>\n",
       "      <th>beta_carotene</th>\n",
       "      <th>beta_cryptoxanthin</th>\n",
       "      <th>carbohydrate</th>\n",
       "      <th>...</th>\n",
       "      <th>potassium</th>\n",
       "      <th>sodium</th>\n",
       "      <th>zinc</th>\n",
       "      <th>vitamin_a_iu</th>\n",
       "      <th>vitamin_a_rae</th>\n",
       "      <th>vitamin_b12</th>\n",
       "      <th>vitamin_b6</th>\n",
       "      <th>vitamin_c</th>\n",
       "      <th>vitamin_e</th>\n",
       "      <th>vitamin_k</th>\n",
       "    </tr>\n",
       "  </thead>\n",
       "  <tbody>\n",
       "  </tbody>\n",
       "</table>\n",
       "<p>0 rows × 50 columns</p>\n",
       "</div>"
      ],
      "text/plain": [
       "Empty DataFrame\n",
       "Columns: [category_en, categoria_es, description_en, descripcion_es, ndbn, alpha_carotene, ash, beta_carotene, beta_cryptoxanthin, carbohydrate, cholesterol, choline, fiber, kilocalories, lutein_zeaxanthin, lycopene, manganese, niacin, pantothenic_acid, protein, refuse_percentage, retinol, riboflavin, selenium, sugar_total, thiamin, water, monosaturated_fat, polysaturated_fat, saturated_fat, total_lipid, one_household_height, one_household_weight_description, two_household_weight, two_household_weight_description, calcium, copper, iron, magnesium, phosphorus, potassium, sodium, zinc, vitamin_a_iu, vitamin_a_rae, vitamin_b12, vitamin_b6, vitamin_c, vitamin_e, vitamin_k]\n",
       "Index: []\n",
       "\n",
       "[0 rows x 50 columns]"
      ]
     },
     "execution_count": 3,
     "metadata": {},
     "output_type": "execute_result"
    }
   ],
   "source": [
    "raw_food = pd.read_csv('./data/food.csv')\n",
    "dupes = raw_food[raw_food.duplicated('ndbn')]\n",
    "dupes"
   ]
  },
  {
   "cell_type": "code",
   "execution_count": 11,
   "metadata": {},
   "outputs": [],
   "source": [
    "raw_food[['category_en', 'categoria_es']].drop_duplicates().to_csv('data/categories.csv', index=False)"
   ]
  },
  {
   "cell_type": "code",
   "execution_count": 14,
   "metadata": {},
   "outputs": [],
   "source": [
    "raw_food[['description_en', 'descripcion_es', 'ndbn']].to_csv('data/food_ndbn.csv', index=False)"
   ]
  },
  {
   "cell_type": "code",
   "execution_count": null,
   "metadata": {},
   "outputs": [],
   "source": []
  }
 ],
 "metadata": {
  "kernelspec": {
   "display_name": "Python 3.9.7 ('base')",
   "language": "python",
   "name": "python3"
  },
  "language_info": {
   "codemirror_mode": {
    "name": "ipython",
    "version": 3
   },
   "file_extension": ".py",
   "mimetype": "text/x-python",
   "name": "python",
   "nbconvert_exporter": "python",
   "pygments_lexer": "ipython3",
   "version": "3.9.12"
  },
  "orig_nbformat": 4,
  "vscode": {
   "interpreter": {
    "hash": "16db71eea6efcf4c519c0a8b61815adb459907101b8ec16b19faa0cbec11529c"
   }
  }
 },
 "nbformat": 4,
 "nbformat_minor": 2
}
